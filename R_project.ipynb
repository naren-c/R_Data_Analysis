{
  "nbformat": 4,
  "nbformat_minor": 0,
  "metadata": {
    "kernelspec": {
      "name": "ir",
      "display_name": "R",
      "language": "R"
    },
    "language_info": {
      "name": "R",
      "codemirror_mode": "r",
      "pygments_lexer": "r",
      "mimetype": "text/x-r-source",
      "file_extension": ".r",
      "version": "4.0.5"
    },
    "colab": {
      "name": "R_project.ipynb",
      "provenance": [],
      "collapsed_sections": []
    }
  },
  "cells": [
    {
      "cell_type": "code",
      "metadata": {
        "_uuid": "051d70d956493feee0c6d64651c6a088724dca2a",
        "_execution_state": "idle",
        "execution": {
          "iopub.status.busy": "2021-11-21T18:09:34.228451Z",
          "iopub.execute_input": "2021-11-21T18:09:34.270803Z",
          "iopub.status.idle": "2021-11-21T18:09:35.471294Z"
        },
        "trusted": true,
        "colab": {
          "base_uri": "https://localhost:8080/",
          "height": 17
        },
        "id": "xZLdIhha-P3Z",
        "outputId": "4d22895b-0c39-47ad-a1d8-efcce38f1674"
      },
      "source": [
        "# This R environment comes with many helpful analytics packages installed\n",
        "# It is defined by the kaggle/rstats Docker image: https://github.com/kaggle/docker-rstats\n",
        "# For example, here's a helpful package to load\n",
        "\n",
        "library(tidyverse) # metapackage of all tidyverse packages\n",
        "\n",
        "# Input data files are available in the read-only \"../input/\" directory\n",
        "# For example, running this (by clicking run or pressing Shift+Enter) will list all files under the input directory\n",
        "\n",
        "list.files(path = \"../input\")\n",
        "\n",
        "# You can write up to 20GB to the current directory (/kaggle/working/) that gets preserved as output when you create a version using \"Save & Run All\" \n",
        "# You can also write temporary files to /kaggle/temp/, but they won't be saved outside of the current session"
      ],
      "execution_count": 102,
      "outputs": [
        {
          "output_type": "display_data",
          "data": {
            "text/plain": [
              "character(0)"
            ],
            "text/latex": "",
            "text/markdown": "",
            "text/html": [
              ""
            ]
          },
          "metadata": {}
        }
      ]
    },
    {
      "cell_type": "code",
      "metadata": {
        "execution": {
          "iopub.status.busy": "2021-11-21T18:09:35.475167Z",
          "iopub.execute_input": "2021-11-21T18:09:35.476720Z",
          "iopub.status.idle": "2021-11-21T18:09:36.002546Z"
        },
        "trusted": true,
        "id": "VNig79D5-P3h"
      },
      "source": [
        "rm(list = ls()) \n",
        "hotel_data <- read_csv(\"/content/hotel_bookings.csv\")"
      ],
      "execution_count": null,
      "outputs": []
    },
    {
      "cell_type": "code",
      "metadata": {
        "execution": {
          "iopub.status.busy": "2021-11-21T18:09:36.006426Z",
          "iopub.execute_input": "2021-11-21T18:09:36.008132Z",
          "iopub.status.idle": "2021-11-21T18:09:36.056391Z"
        },
        "trusted": true,
        "id": "fn9gXtSP-P3h"
      },
      "source": [
        "hotel_data<- as_tibble(hotel_data)\n",
        "\n",
        "glimpse(hotel_data)\n"
      ],
      "execution_count": null,
      "outputs": []
    },
    {
      "cell_type": "code",
      "metadata": {
        "execution": {
          "iopub.status.busy": "2021-11-21T18:09:36.072798Z",
          "iopub.execute_input": "2021-11-21T18:09:36.074960Z",
          "iopub.status.idle": "2021-11-21T18:09:38.629308Z"
        },
        "trusted": true,
        "id": "Bi7XrA4H-P3i"
      },
      "source": [
        "hotel_data<-hotel_data%>%\n",
        "  mutate(\n",
        "         hotel=as.factor(hotel),      \n",
        "         is_canceled=as.factor(is_canceled),\n",
        "         meal=as.factor(meal),\n",
        "         country=as.factor(country),\n",
        "         market_segment=as.factor(market_segment),\n",
        "         distribution_channel=as.factor(distribution_channel),\n",
        "         is_repeated_guest=as.factor(is_repeated_guest),\n",
        "         reserved_room_type=as.factor(reserved_room_type),\n",
        "         assigned_room_type=as.factor(assigned_room_type),\n",
        "         deposit_type=as.factor(deposit_type),\n",
        "         customer_type=as.factor(customer_type),\n",
        "         reservation_status=as.factor(reservation_status),\n",
        "         agent=as.factor(agent),\n",
        "         company=as.factor(company),\n",
        "         arrival_date_day_of_month=as.factor(arrival_date_day_of_month),\n",
        "         arrival_date_month=as.factor(arrival_date_month),\n",
        "         arrival_date_year=as.factor(arrival_date_year)\n",
        "\n",
        "         )"
      ],
      "execution_count": 105,
      "outputs": []
    },
    {
      "cell_type": "code",
      "metadata": {
        "execution": {
          "iopub.status.busy": "2021-11-21T18:09:38.633109Z",
          "iopub.execute_input": "2021-11-21T18:09:38.634745Z",
          "iopub.status.idle": "2021-11-21T18:09:40.817290Z"
        },
        "trusted": true,
        "id": "t6FuyHp6-P3j"
      },
      "source": [
        "head(hotel_data)\n",
        "tail(hotel_data)\n",
        "summary(hotel_data)\n",
        "nrow(hotel_data)    # 119390\n",
        "ncol(hotel_data)    # 32"
      ],
      "execution_count": null,
      "outputs": []
    },
    {
      "cell_type": "code",
      "metadata": {
        "execution": {
          "iopub.status.busy": "2021-11-21T18:09:40.820820Z",
          "iopub.execute_input": "2021-11-21T18:09:40.822298Z",
          "iopub.status.idle": "2021-11-21T18:09:40.920438Z"
        },
        "trusted": true,
        "id": "aD_aDZ4Y-P3k"
      },
      "source": [
        "hotel_data%>%\n",
        "  group_by(country)%>%\n",
        "  summarise(num=n())%>%\n",
        "  arrange(desc(num))"
      ],
      "execution_count": null,
      "outputs": []
    },
    {
      "cell_type": "code",
      "metadata": {
        "execution": {
          "iopub.status.busy": "2021-11-21T18:09:41.029223Z",
          "iopub.execute_input": "2021-11-21T18:09:41.030836Z",
          "iopub.status.idle": "2021-11-21T18:09:41.173635Z"
        },
        "trusted": true,
        "id": "4ChBeD9t-P3n"
      },
      "source": [
        "hotel_data <- hotel_data %>% \n",
        "  mutate(stay_nights_total = stays_in_weekend_nights + stays_in_week_nights,\n",
        "       stay_cost_total = adr * stay_nights_total)\n",
        "\n",
        "summary(hotel_data$stay_nights_total)\n",
        "summary(hotel_data$stay_cost_total)"
      ],
      "execution_count": null,
      "outputs": []
    },
    {
      "cell_type": "markdown",
      "metadata": {
        "id": "TXFG8lLkHFim"
      },
      "source": [
        "# **GRAPHS**"
      ]
    },
    {
      "cell_type": "code",
      "metadata": {
        "execution": {
          "iopub.status.busy": "2021-11-21T18:09:41.177263Z",
          "iopub.execute_input": "2021-11-21T18:09:41.178706Z",
          "iopub.status.idle": "2021-11-21T18:09:43.709136Z"
        },
        "trusted": true,
        "id": "weAOwlnS-P3o"
      },
      "source": [
        "ggplot(hotel_data, aes(x=stay_nights_total,y=stay_cost_total,shape=hotel,color=is_canceled))+\n",
        "  geom_point(alpha=1)"
      ],
      "execution_count": null,
      "outputs": []
    },
    {
      "cell_type": "code",
      "metadata": {
        "execution": {
          "iopub.status.busy": "2021-11-21T18:09:43.713122Z",
          "iopub.execute_input": "2021-11-21T18:09:43.714778Z",
          "iopub.status.idle": "2021-11-21T18:09:46.496200Z"
        },
        "trusted": true,
        "id": "JFo3mvCh-P3o"
      },
      "source": [
        "ggplot(hotel_data, aes(x=stay_nights_total,y=stay_cost_total,shape=hotel,color=is_canceled))+\n",
        "  geom_point()+\n",
        "  facet_wrap(~market_segment)"
      ],
      "execution_count": null,
      "outputs": []
    },
    {
      "cell_type": "code",
      "metadata": {
        "execution": {
          "iopub.status.busy": "2021-11-21T18:09:46.499817Z",
          "iopub.execute_input": "2021-11-21T18:09:46.501386Z",
          "iopub.status.idle": "2021-11-21T18:09:46.990408Z"
        },
        "trusted": true,
        "id": "W7T8YWuL-P3p"
      },
      "source": [
        "hotel_data%>%\n",
        "  ggplot(aes(x=arrival_date_year,fill=is_canceled))+\n",
        "  geom_bar()"
      ],
      "execution_count": null,
      "outputs": []
    },
    {
      "cell_type": "code",
      "metadata": {
        "execution": {
          "iopub.status.busy": "2021-11-21T18:09:46.993938Z",
          "iopub.execute_input": "2021-11-21T18:09:46.995473Z",
          "iopub.status.idle": "2021-11-21T18:09:47.610050Z"
        },
        "trusted": true,
        "id": "co3Lqfdc-P3q"
      },
      "source": [
        "hotel_data%>%\n",
        "  ggplot(aes(x=hotel,fill=is_canceled))+\n",
        "  geom_bar()"
      ],
      "execution_count": null,
      "outputs": []
    },
    {
      "cell_type": "code",
      "metadata": {
        "execution": {
          "iopub.status.busy": "2021-11-21T18:09:47.614441Z",
          "iopub.execute_input": "2021-11-21T18:09:47.616213Z",
          "iopub.status.idle": "2021-11-21T18:09:48.086230Z"
        },
        "trusted": true,
        "id": "xiw7J_3u-P3r"
      },
      "source": [
        "hotel_data%>%\n",
        "  ggplot(aes(x=assigned_room_type,fill=is_canceled))+\n",
        "  geom_bar()"
      ],
      "execution_count": null,
      "outputs": []
    },
    {
      "cell_type": "code",
      "metadata": {
        "execution": {
          "iopub.status.busy": "2021-11-21T18:09:48.089933Z",
          "iopub.execute_input": "2021-11-21T18:09:48.091494Z",
          "iopub.status.idle": "2021-11-21T18:09:48.557945Z"
        },
        "trusted": true,
        "id": "i5DY2Juz-P3s"
      },
      "source": [
        "hotel_data%>%\n",
        "  ggplot(aes(x=distribution_channel,fill=is_canceled))+\n",
        "  geom_bar()"
      ],
      "execution_count": null,
      "outputs": []
    },
    {
      "cell_type": "code",
      "metadata": {
        "execution": {
          "iopub.status.busy": "2021-11-21T18:09:48.561736Z",
          "iopub.execute_input": "2021-11-21T18:09:48.563194Z",
          "iopub.status.idle": "2021-11-21T18:09:48.915240Z"
        },
        "trusted": true,
        "id": "NTqSwkEE-P3s"
      },
      "source": [
        "hotel_data%>%\n",
        "  filter(days_in_waiting_list>1)%>%\n",
        "  ggplot(aes(x=days_in_waiting_list,fill=is_canceled))+\n",
        "  geom_histogram(binwidth = 10)"
      ],
      "execution_count": null,
      "outputs": []
    },
    {
      "cell_type": "code",
      "metadata": {
        "execution": {
          "iopub.status.busy": "2021-11-21T18:09:48.919049Z",
          "iopub.execute_input": "2021-11-21T18:09:48.920618Z",
          "iopub.status.idle": "2021-11-21T18:09:49.375336Z"
        },
        "trusted": true,
        "id": "WvsOy7tx-P3t"
      },
      "source": [
        "hotel_data%>%\n",
        "  ggplot(aes(x=deposit_type,fill=is_canceled))+\n",
        "  geom_bar()"
      ],
      "execution_count": null,
      "outputs": []
    },
    {
      "cell_type": "code",
      "metadata": {
        "execution": {
          "iopub.status.busy": "2021-11-21T18:09:49.379220Z",
          "iopub.execute_input": "2021-11-21T18:09:49.380673Z",
          "iopub.status.idle": "2021-11-21T18:09:50.000339Z"
        },
        "trusted": true,
        "id": "uqNxsi6j-P3t"
      },
      "source": [
        "hotel_data%>%\n",
        "  ggplot(aes(x=lead_time,fill=is_canceled))+\n",
        "  geom_histogram(binwidth=10,position=\"stack\")"
      ],
      "execution_count": null,
      "outputs": []
    },
    {
      "cell_type": "code",
      "metadata": {
        "execution": {
          "iopub.status.busy": "2021-11-21T18:15:11.659575Z",
          "iopub.execute_input": "2021-11-21T18:15:11.661514Z",
          "iopub.status.idle": "2021-11-21T18:15:12.947804Z"
        },
        "trusted": true,
        "id": "GZK6YWJE-P3w"
      },
      "source": [
        "getwd()\n",
        "\n",
        "hotel_booking <- read.csv(\"/content/hotel_bookings.csv\", TRUE, sep = \",\")\n",
        "data <- aggregate(hotel_booking$adults, \n",
        "                  by=list(hotel_booking$country), FUN=sum)\n",
        "print(data)\n",
        "\n",
        "pie(data$x, data$Group.1)"
      ],
      "execution_count": null,
      "outputs": []
    },
    {
      "cell_type": "code",
      "metadata": {
        "execution": {
          "iopub.status.busy": "2021-11-21T18:17:53.671797Z",
          "iopub.execute_input": "2021-11-21T18:17:53.673567Z",
          "iopub.status.idle": "2021-11-21T18:17:53.948978Z"
        },
        "trusted": true,
        "id": "ltx4w3of-P3w"
      },
      "source": [
        "Numbers<-table(hotel_booking$adults,hotel_booking$arrival_date_month)\n",
        "barplot(Numbers,main='no of adults vs months', \n",
        "        col=c('red','orange', 'steelblue'),xlab='months',\n",
        "        ylab='count')"
      ],
      "execution_count": null,
      "outputs": []
    },
    {
      "cell_type": "markdown",
      "metadata": {
        "id": "swsGdNDgE3Hr"
      },
      "source": [
        "above code snippets needed"
      ]
    }
  ]
}